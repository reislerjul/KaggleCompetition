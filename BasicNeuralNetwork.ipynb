{
 "cells": [
  {
   "cell_type": "code",
   "execution_count": 288,
   "metadata": {},
   "outputs": [],
   "source": [
    "# import os\n",
    "# import math\n",
    "# import tflearn\n",
    "# import pandas as pd\n",
    "# import nltk\n",
    "import numpy as np\n",
    "from sklearn.feature_extraction.text import CountVectorizer\n",
    "from sklearn.ensemble import RandomForestClassifier\n",
    "# from imblearn.over_sampling import ADASYN, SMOTE, RandomOverSampler\n",
    "# import sklearn.linear_model as model\n",
    "import csv\n",
    "# from sklearn.feature_extraction.text import TfidfVectorizer\n",
    "# from sklearn.model_selection import GridSearchCV\n",
    "# from sklearn.naive_bayes import MultinomialNB\n",
    "# from sklearn.linear_model import SGDClassifier\n",
    "# import sklearn\n",
    "# from sklearn.naive_bayes import BernoulliNB\n",
    "from tflearn.data_utils import to_categorical, pad_sequences\n",
    "# from tflearn.datasets import imdb\n",
    "import tensorflow as tf \n",
    "import keras\n",
    "from keras.models import Sequential\n",
    "from keras.layers.core import Dense, Activation, Flatten, Dropout"
   ]
  },
  {
   "cell_type": "markdown",
   "metadata": {},
   "source": [
    "### Basic Neural Network"
   ]
  },
  {
   "cell_type": "markdown",
   "metadata": {},
   "source": [
    "Use Michelle's method for importing data since I can't do it correctly:"
   ]
  },
  {
   "cell_type": "code",
   "execution_count": 211,
   "metadata": {
    "scrolled": true
   },
   "outputs": [
    {
     "name": "stdout",
     "output_type": "stream",
     "text": [
      "trainX =  (20000, 1000)\n",
      "trainY =  (20000,)\n",
      "testX =  (10000, 1000)\n"
     ]
    }
   ],
   "source": [
    "train_data = np.genfromtxt('Data/training_data.txt',dtype='str')\n",
    "test_data = np.genfromtxt('Data/test_data.txt',dtype='str')\n",
    "#train_data = np.loadtxt('training_data.txt',  delimiter=' ')\n",
    "#test_data = np.loadtxt('test_data.txt')\n",
    "train_labels = train_data[0, :]\n",
    "train_stars = train_data[1:, 0]\n",
    "train_reviews = train_data[1:, 1:]\n",
    "\n",
    "test_labels = test_data[0, :]\n",
    "#test_stars = train_data[1:, 0]\n",
    "test_reviews = test_data[1:, 0:]\n",
    "\n",
    "trainX = train_reviews\n",
    "trainY = train_stars\n",
    "testX = test_reviews\n",
    "#testY = test_stars\n",
    "\n",
    "print(\"trainX = \", trainX.shape)\n",
    "print(\"trainY = \", trainY.shape)\n",
    "print(\"testX = \", testX.shape)\n",
    "\n",
    "\n",
    "for i in range(0, len(trainX)):\n",
    "    for j in range(0, len(trainX[0])):\n",
    "        trainX[i][j] = int(trainX[i][j])\n",
    "\n",
    "for i in range(0, len(testX)):\n",
    "    for j in range(0, len(testX[0])):\n",
    "        testX[i][j] = int(testX[i][j])\n",
    "\n",
    "for i in range(0, len(trainY)):\n",
    "        trainY[i] = int(trainY[i])\n",
    "#for i in range(0, len(trainY)):\n",
    "        #testY[i] = int(testY[i])"
   ]
  },
  {
   "cell_type": "markdown",
   "metadata": {},
   "source": [
    "Define a function for classification error:"
   ]
  },
  {
   "cell_type": "code",
   "execution_count": 227,
   "metadata": {},
   "outputs": [],
   "source": [
    "def class_error(y, y_pred):\n",
    "    misclassified = 0\n",
    "    for i in range(len(y)):\n",
    "        if y[i] != y_pred[i]:\n",
    "            misclassified += 1\n",
    "    return float(misclassified) / len(y)"
   ]
  },
  {
   "cell_type": "markdown",
   "metadata": {},
   "source": [
    "Split data into 80% training set and 20% test set."
   ]
  },
  {
   "cell_type": "code",
   "execution_count": 247,
   "metadata": {},
   "outputs": [],
   "source": [
    "num_rows = []\n",
    "for i in range(len(trainY)):\n",
    "    num_rows.append(i)\n",
    "    \n",
    "np.random.shuffle(num_rows)\n",
    "train_indices = num_rows[:16000]\n",
    "valid_indices = num_rows[16000:]\n",
    "\n",
    "train_X = []\n",
    "train_y = []\n",
    "valid_X = []\n",
    "valid_y = []\n",
    "\n",
    "for index in train_indices:\n",
    "    train_X.append(trainX[index])\n",
    "    train_y.append(trainY[index])\n",
    "    \n",
    "for index in valid_indices:\n",
    "    valid_X.append(trainX[index])\n",
    "    valid_y.append(trainY[index])"
   ]
  },
  {
   "cell_type": "markdown",
   "metadata": {},
   "source": [
    "With Michelle's code, it doesn't actually convert the array contents into integers because she tried to do it in place. This code does it correctly out of place:"
   ]
  },
  {
   "cell_type": "code",
   "execution_count": 248,
   "metadata": {},
   "outputs": [],
   "source": [
    "train_X2 = []\n",
    "for row in train_X:\n",
    "    temp = []\n",
    "    for element in row:\n",
    "        temp.append(int(element))\n",
    "    train_X2.append(temp)\n",
    "\n",
    "valid_X2 = []\n",
    "for row in valid_X:\n",
    "    temp = []\n",
    "    for element in row:\n",
    "        temp.append(int(element))\n",
    "    valid_X2.append(temp)\n",
    "    \n",
    "valid_y2 = []\n",
    "for row in valid_y:\n",
    "    valid_y2.append(int(row))\n",
    "    \n",
    "train_y2 = []\n",
    "for row in train_y:\n",
    "    train_y2.append(int(row))\n",
    "    \n",
    "test_X2 = []\n",
    "for row in testX:\n",
    "    temp = []\n",
    "    for element in row:\n",
    "        temp.append(int(element))\n",
    "    test_X2.append(temp)"
   ]
  },
  {
   "cell_type": "markdown",
   "metadata": {},
   "source": [
    "Convert everything back to a numpy array:"
   ]
  },
  {
   "cell_type": "code",
   "execution_count": 249,
   "metadata": {},
   "outputs": [],
   "source": [
    "train_X2 = np.array(train_X2)\n",
    "valid_X2 = np.array(valid_X2)\n",
    "train_y2 = np.array(train_y2)\n",
    "valid_y2 = np.array(valid_y2)\n",
    "test_X2 = np.array(test_X2)"
   ]
  },
  {
   "cell_type": "markdown",
   "metadata": {},
   "source": [
    "# Basic Neural Network "
   ]
  },
  {
   "cell_type": "code",
   "execution_count": 235,
   "metadata": {},
   "outputs": [
    {
     "name": "stdout",
     "output_type": "stream",
     "text": [
      "[[1 0 0 ... 0 0 0]\n",
      " [4 0 5 ... 0 0 0]\n",
      " [2 0 0 ... 0 0 0]\n",
      " ...\n",
      " [1 0 1 ... 0 0 0]\n",
      " [2 1 3 ... 0 0 0]\n",
      " [1 0 0 ... 0 0 0]]\n"
     ]
    }
   ],
   "source": [
    "print(valid_X2)"
   ]
  },
  {
   "cell_type": "code",
   "execution_count": 236,
   "metadata": {},
   "outputs": [
    {
     "name": "stdout",
     "output_type": "stream",
     "text": [
      "[[0. 1.]\n",
      " [1. 0.]\n",
      " [0. 1.]\n",
      " ...\n",
      " [1. 0.]\n",
      " [0. 1.]\n",
      " [1. 0.]]\n"
     ]
    }
   ],
   "source": [
    "print(validY)"
   ]
  },
  {
   "cell_type": "code",
   "execution_count": 251,
   "metadata": {},
   "outputs": [],
   "source": [
    "train_y2 = to_categorical(train_y2, 2)"
   ]
  },
  {
   "cell_type": "code",
   "execution_count": 141,
   "metadata": {},
   "outputs": [
    {
     "name": "stdout",
     "output_type": "stream",
     "text": [
      "[[1. 0.]\n",
      " [1. 0.]\n",
      " [1. 0.]\n",
      " ...\n",
      " [1. 0.]\n",
      " [1. 0.]\n",
      " [0. 1.]]\n"
     ]
    }
   ],
   "source": [
    "print(train_y2)"
   ]
  },
  {
   "cell_type": "code",
   "execution_count": 252,
   "metadata": {},
   "outputs": [
    {
     "name": "stdout",
     "output_type": "stream",
     "text": [
      "[[1. 0.]\n",
      " [0. 1.]\n",
      " [1. 0.]\n",
      " ...\n",
      " [0. 1.]\n",
      " [1. 0.]\n",
      " [0. 1.]]\n"
     ]
    }
   ],
   "source": [
    "valid_y2 = to_categorical(valid_y2, 2)\n",
    "print(valid_y2)"
   ]
  },
  {
   "cell_type": "code",
   "execution_count": 334,
   "metadata": {
    "scrolled": true
   },
   "outputs": [
    {
     "name": "stdout",
     "output_type": "stream",
     "text": [
      "_________________________________________________________________\n",
      "Layer (type)                 Output Shape              Param #   \n",
      "=================================================================\n",
      "dense_267 (Dense)            (None, 200)               200200    \n",
      "_________________________________________________________________\n",
      "activation_258 (Activation)  (None, 200)               0         \n",
      "_________________________________________________________________\n",
      "dropout_177 (Dropout)        (None, 200)               0         \n",
      "_________________________________________________________________\n",
      "dense_268 (Dense)            (None, 200)               40200     \n",
      "_________________________________________________________________\n",
      "activation_259 (Activation)  (None, 200)               0         \n",
      "_________________________________________________________________\n",
      "dropout_178 (Dropout)        (None, 200)               0         \n",
      "_________________________________________________________________\n",
      "dense_269 (Dense)            (None, 2)                 402       \n",
      "_________________________________________________________________\n",
      "activation_260 (Activation)  (None, 2)                 0         \n",
      "=================================================================\n",
      "Total params: 240,802\n",
      "Trainable params: 240,802\n",
      "Non-trainable params: 0\n",
      "_________________________________________________________________\n"
     ]
    },
    {
     "name": "stderr",
     "output_type": "stream",
     "text": [
      "/Library/Frameworks/Python.framework/Versions/3.6/lib/python3.6/site-packages/keras/models.py:944: UserWarning: The `nb_epoch` argument in `fit` has been renamed `epochs`.\n",
      "  warnings.warn('The `nb_epoch` argument in `fit` '\n"
     ]
    },
    {
     "name": "stdout",
     "output_type": "stream",
     "text": [
      "Train on 16000 samples, validate on 4000 samples\n",
      "Epoch 1/12\n",
      "16000/16000 [==============================] - 4s 267us/step - loss: 0.5994 - acc: 0.6803 - val_loss: 0.3983 - val_acc: 0.8488\n",
      "Epoch 2/12\n",
      "16000/16000 [==============================] - 1s 88us/step - loss: 0.3719 - acc: 0.8373 - val_loss: 0.3428 - val_acc: 0.8592\n",
      "Epoch 3/12\n",
      "16000/16000 [==============================] - 1s 90us/step - loss: 0.3366 - acc: 0.8576 - val_loss: 0.3391 - val_acc: 0.8568\n",
      "Epoch 4/12\n",
      "16000/16000 [==============================] - 1s 92us/step - loss: 0.3291 - acc: 0.8592 - val_loss: 0.3436 - val_acc: 0.8585\n",
      "Epoch 5/12\n",
      "16000/16000 [==============================] - 1s 91us/step - loss: 0.3216 - acc: 0.8607 - val_loss: 0.3446 - val_acc: 0.8538\n",
      "Epoch 6/12\n",
      "16000/16000 [==============================] - 1s 90us/step - loss: 0.3177 - acc: 0.8649 - val_loss: 0.3431 - val_acc: 0.8575\n",
      "Epoch 7/12\n",
      "16000/16000 [==============================] - 2s 96us/step - loss: 0.3161 - acc: 0.8661 - val_loss: 0.3425 - val_acc: 0.8568\n",
      "Epoch 8/12\n",
      "16000/16000 [==============================] - 1s 92us/step - loss: 0.3108 - acc: 0.8689 - val_loss: 0.3424 - val_acc: 0.8555\n",
      "Epoch 9/12\n",
      "16000/16000 [==============================] - 1s 92us/step - loss: 0.3073 - acc: 0.8698 - val_loss: 0.3445 - val_acc: 0.8545\n",
      "Epoch 10/12\n",
      "16000/16000 [==============================] - 1s 88us/step - loss: 0.3077 - acc: 0.8703 - val_loss: 0.3514 - val_acc: 0.8525\n",
      "Epoch 11/12\n",
      "16000/16000 [==============================] - 1s 92us/step - loss: 0.3033 - acc: 0.8716 - val_loss: 0.3446 - val_acc: 0.8538\n",
      "Epoch 12/12\n",
      "16000/16000 [==============================] - 1s 89us/step - loss: 0.3020 - acc: 0.8732 - val_loss: 0.3482 - val_acc: 0.8552\n"
     ]
    }
   ],
   "source": [
    "model = Sequential()\n",
    "\n",
    "keras.layers.BatchNormalization(axis=-1, \n",
    "momentum=0.99, epsilon=0.001, center=True, \n",
    "scale=True, beta_initializer='zeros', \n",
    "gamma_initializer='ones', moving_mean_initializer='zeros', \n",
    "moving_variance_initializer='ones', beta_regularizer=None, \n",
    "gamma_regularizer=None, beta_constraint=None, gamma_constraint=None)\n",
    "\n",
    "# change input dim to 1000 for \n",
    "model.add(Dense(200, input_dim=1000))\n",
    "# keras.layers.LeakyReLU(alpha=0.3)\n",
    "model.add(Activation('sigmoid'))\n",
    "model.add(Dropout(0.10))\n",
    "\n",
    "model.add(Dense(200)) \n",
    "model.add(Activation('sigmoid'))\n",
    "# keras.layers.LeakyReLU(alpha=0.3)\n",
    "model.add(Dropout(0.10))\n",
    "\n",
    "model.add(Dense(2))\n",
    "model.add(Activation('softmax'))\n",
    "\n",
    "model.summary()\n",
    "\n",
    "model.compile(loss='categorical_crossentropy', optimizer='Adam', metrics=['accuracy'])\n",
    "\n",
    "# with tf idf\n",
    "# train_XTF = TFIDF(train_X2, train_labels)\n",
    "# valid_XTF = TFIDF(valid_X2, train_labels)\n",
    "# print(np.shape(valid_XTF[:, :1000]), np.shape(valid_X2))\n",
    "\n",
    "# fit = model.fit(train_XTF[:, :1000], train_y2, batch_size=128, nb_epoch=10, validation_data=(valid_XTF[:, :1000], valid_y2),\n",
    "#     verbose=1)\n",
    "\n",
    "\n",
    "# without tfidf\n",
    "fit = model.fit(train_X2, train_y2, batch_size=128, nb_epoch=12, validation_data=(valid_X2, valid_y2),\n",
    "  verbose=1)"
   ]
  },
  {
   "cell_type": "markdown",
   "metadata": {},
   "source": [
    "Fit the model:"
   ]
  },
  {
   "cell_type": "code",
   "execution_count": 181,
   "metadata": {},
   "outputs": [
    {
     "name": "stdout",
     "output_type": "stream",
     "text": [
      "(16000, 1000)\n"
     ]
    }
   ],
   "source": [
    "print(np.shape(train_XTF[:, :1000]))"
   ]
  },
  {
   "cell_type": "markdown",
   "metadata": {},
   "source": [
    "Print the classification error on the training set:"
   ]
  },
  {
   "cell_type": "code",
   "execution_count": 335,
   "metadata": {},
   "outputs": [
    {
     "data": {
      "text/plain": [
       "0.122"
      ]
     },
     "execution_count": 335,
     "metadata": {},
     "output_type": "execute_result"
    }
   ],
   "source": [
    "# prediction = model.predict(train_XTF[:, :1000])\n",
    "prediction = model.predict(train_X2)\n",
    "predictedY = []\n",
    "\n",
    "trainY_new = []\n",
    "for i in range(0, len(train_y2)):\n",
    "    if train_y2[i][0] == 1:\n",
    "        trainY_new.append(0)\n",
    "    else:\n",
    "        trainY_new.append(1)\n",
    "\n",
    "for i in range(0, len(prediction)):\n",
    "    if abs(prediction[i][0]-1) < abs(prediction[i][1]-1):\n",
    "        predictedY.append(0)\n",
    "    else:\n",
    "        predictedY.append(1)\n",
    "        \n",
    "class_error(predictedY, trainY_new)"
   ]
  },
  {
   "cell_type": "code",
   "execution_count": 336,
   "metadata": {},
   "outputs": [
    {
     "data": {
      "text/plain": [
       "0.14475"
      ]
     },
     "execution_count": 336,
     "metadata": {},
     "output_type": "execute_result"
    }
   ],
   "source": [
    "# prediction_V = model.predict(valid_XTF[:, :1000])\n",
    "# print(valid_X2)\n",
    "\n",
    "prediction_V = model.predict(valid_X2)\n",
    "predictedY_V = []\n",
    "\n",
    "validY_new = []\n",
    "for i in range(0, len(valid_y2)):\n",
    "    if valid_y2[i][0] == 1:\n",
    "        validY_new.append(0)\n",
    "    else:\n",
    "        validY_new.append(1)\n",
    "\n",
    "for i in range(0, len(prediction_V)):\n",
    "    if abs(prediction_V[i][0] - 1) < abs(prediction_V[i][1] - 1):\n",
    "        predictedY_V.append(0)\n",
    "    else:\n",
    "        predictedY_V.append(1)\n",
    "\n",
    "class_error(predictedY_V, validY_new)"
   ]
  },
  {
   "cell_type": "code",
   "execution_count": 310,
   "metadata": {},
   "outputs": [],
   "source": [
    "testXTF = TFIDF(test_X2, test_labels)\n",
    "# print(np.shape(test_X2), np.shape(test_labels), np.shape(train_labels), np.shape(train_X2))\n",
    "# print(np.shape(testXTF))"
   ]
  },
  {
   "cell_type": "code",
   "execution_count": 337,
   "metadata": {},
   "outputs": [],
   "source": [
    "test_predictions = model.predict(test_X2)\n",
    "# test_predictions = model.predict(testXTF)\n",
    "predictions_arr = []\n",
    "\n",
    "for i in range(0, len(test_predictions)):\n",
    "    if abs(test_predictions[i][0]-1) < abs(test_predictions[i][1]-1):\n",
    "        predictions_arr.append(0)\n",
    "    else:\n",
    "        predictions_arr.append(1)\n",
    "    \n",
    "writeToText(predictions_arr, 'basicNeuralNetNOTF.txt')"
   ]
  },
  {
   "cell_type": "markdown",
   "metadata": {},
   "source": [
    "Print the classification error on the validation set:"
   ]
  },
  {
   "cell_type": "markdown",
   "metadata": {},
   "source": [
    "A function for writing to the text file for the submission:"
   ]
  },
  {
   "cell_type": "code",
   "execution_count": 262,
   "metadata": {},
   "outputs": [],
   "source": [
    "def writeToText(predictions, filename):\n",
    "    array = [[\"Id\",\"Prediction\"]]\n",
    "    index = 1\n",
    "    for i in range(len(predictions)):\n",
    "        predict = predictions[index - 1]\n",
    "        array.append([index, int(predictions[index - 1])])\n",
    "        index += 1\n",
    "    f = open(filename, 'w')\n",
    "    writer = csv.writer(f, delimiter=',', quotechar='|')\n",
    "    writer.writerows(array)"
   ]
  },
  {
   "cell_type": "markdown",
   "metadata": {},
   "source": [
    "### Logistic Regression with TF-IDF"
   ]
  },
  {
   "cell_type": "markdown",
   "metadata": {},
   "source": [
    "A function to convert the set into a TF-IDF matrix:"
   ]
  },
  {
   "cell_type": "code",
   "execution_count": 300,
   "metadata": {},
   "outputs": [],
   "source": [
    "def TFIDF(X, labels):\n",
    "    documents = []\n",
    "\n",
    "    for element in X:\n",
    "        temp = ''\n",
    "        for i in range(len(element) - 1):\n",
    "            word = labels[i + 1] + ' '\n",
    "            new_word = word * element[i]\n",
    "            temp += (new_word)\n",
    "        documents.append(temp)\n",
    "        \n",
    "    tokenize = lambda doc: doc.lower().split(\" \")\n",
    "    sklearn_tfidf = TfidfVectorizer(norm='l2',min_df=0, use_idf=True, smooth_idf=False, sublinear_tf=True, tokenizer=tokenize)\n",
    "    return sklearn_tfidf.fit_transform(documents)"
   ]
  },
  {
   "cell_type": "markdown",
   "metadata": {},
   "source": [
    "Fit the model using the training data:"
   ]
  },
  {
   "cell_type": "code",
   "execution_count": null,
   "metadata": {},
   "outputs": [],
   "source": [
    "model = Sequential()\n",
    "model.add(Dense(1000, input_dim=1000))\n",
    "model.add(Activation('relu'))\n",
    "model.add(Dropout(0.20))\n",
    "\n",
    "model.add(Dense(1000)) \n",
    "model.add(Activation('relu'))\n",
    "model.add(Dropout(0.20))\n",
    "\n",
    "model.add(Dense(2))\n",
    "model.add(Activation('softmax'))\n",
    "\n",
    "model.summary()\n",
    "\n",
    "model.compile(loss='categorical_crossentropy', optimizer='Adam', metrics=['accuracy'])\n",
    "\n",
    "inputX = TFIDF(train_X2, train_labels)\n",
    "print(inputX)\n",
    "print(len(inputX))\n",
    "\n",
    "fit = model.fit(inputX, trainY, batch_size=64, nb_epoch=15, validation_data=(validX, validY),\n",
    "    verbose=1)\n",
    "\n",
    "\n",
    "prediction = model.predict(trainX)\n",
    "predictedY = []\n",
    "\n",
    "trainY_new = []\n",
    "for i in range(0, len(trainY)):\n",
    "    if trainY[i][0] == 1:\n",
    "        trainY_new.append(0)\n",
    "    else:\n",
    "        trainY_new.append(1)\n",
    "\n",
    "\n",
    "\n",
    "for i in range(0, len(prediction)):\n",
    "    if abs(prediction[i][0]-1) < abs(prediction[i][1]-1):\n",
    "        predictedY.append(0)\n",
    "    else:\n",
    "        predictedY.append(1)\n",
    "        \n",
    "class_error(predictedY, trainY_new)"
   ]
  }
 ],
 "metadata": {
  "kernelspec": {
   "display_name": "Python 3",
   "language": "python",
   "name": "python3"
  },
  "language_info": {
   "codemirror_mode": {
    "name": "ipython",
    "version": 3
   },
   "file_extension": ".py",
   "mimetype": "text/x-python",
   "name": "python",
   "nbconvert_exporter": "python",
   "pygments_lexer": "ipython3",
   "version": "3.6.3"
  }
 },
 "nbformat": 4,
 "nbformat_minor": 2
}
